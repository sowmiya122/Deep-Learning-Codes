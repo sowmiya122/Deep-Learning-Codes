{
 "cells": [
  {
   "cell_type": "markdown",
   "metadata": {},
   "source": [
    "### 225229138 - B.Sowmiya"
   ]
  },
  {
   "cell_type": "markdown",
   "metadata": {},
   "source": [
    "## Lab 1.Python funtions and numpy"
   ]
  },
  {
   "cell_type": "code",
   "execution_count": 1,
   "metadata": {},
   "outputs": [],
   "source": [
    "import math\n",
    "import numpy as np"
   ]
  },
  {
   "cell_type": "markdown",
   "metadata": {},
   "source": [
    "1. Write a function, mysigmoid(x), that takes the real number x and\n",
    "returns the sigmoid value using math.exp()."
   ]
  },
  {
   "cell_type": "code",
   "execution_count": 2,
   "metadata": {},
   "outputs": [],
   "source": [
    "def mysigmoid(x):\n",
    "    return 1 / (1 + math.exp(-x))"
   ]
  },
  {
   "cell_type": "markdown",
   "metadata": {},
   "source": [
    "2.Call mysigmoid() with x=4 and print the sigmoid value of 4."
   ]
  },
  {
   "cell_type": "code",
   "execution_count": 3,
   "metadata": {},
   "outputs": [
    {
     "data": {
      "text/plain": [
       "0.9820137900379085"
      ]
     },
     "execution_count": 3,
     "metadata": {},
     "output_type": "execute_result"
    }
   ],
   "source": [
    "mysigmoid(4)"
   ]
  },
  {
   "cell_type": "markdown",
   "metadata": {},
   "source": [
    "3.Now, find the sigmoid values for x=[1, 2, 3]. Observe the results."
   ]
  },
  {
   "cell_type": "code",
   "execution_count": 19,
   "metadata": {},
   "outputs": [
    {
     "name": "stdout",
     "output_type": "stream",
     "text": [
      "0.7310585786300049\n",
      "0.8807970779778823\n",
      "0.9525741268224334\n"
     ]
    }
   ],
   "source": [
    "x =np.array([1, 2, 3])\n",
    "for val in x:\n",
    "    sigmoid_val = mysigmoid(val)\n",
    "    print(sigmoid_val)"
   ]
  },
  {
   "cell_type": "markdown",
   "metadata": {},
   "source": [
    "4.Rewrite mysigmoid() using np.exp() function."
   ]
  },
  {
   "cell_type": "code",
   "execution_count": 20,
   "metadata": {},
   "outputs": [],
   "source": [
    "def mysigmoid(x):\n",
    "    return 1 / (1 + np.exp(-x))"
   ]
  },
  {
   "cell_type": "markdown",
   "metadata": {},
   "source": [
    "5.Now call your function with x=[1, 2, 3] and observe the results"
   ]
  },
  {
   "cell_type": "code",
   "execution_count": 21,
   "metadata": {},
   "outputs": [
    {
     "name": "stdout",
     "output_type": "stream",
     "text": [
      "0.7310585786300049\n",
      "0.8807970779778823\n",
      "0.9525741268224334\n"
     ]
    }
   ],
   "source": [
    "for val in x:\n",
    "    sigmoid_val = mysigmoid(val)\n",
    "    print(sigmoid_val)"
   ]
  },
  {
   "cell_type": "markdown",
   "metadata": {},
   "source": [
    "### Part-II: Gradient or derivative of sigmoid function"
   ]
  },
  {
   "cell_type": "markdown",
   "metadata": {},
   "source": [
    "Write a function, sig_derivative(s) that returns the gradient of s. You\n",
    "should call your earlier function, mysigmoid() to compute the sigmoid\n",
    "value."
   ]
  },
  {
   "cell_type": "code",
   "execution_count": 22,
   "metadata": {},
   "outputs": [],
   "source": [
    "def sig_derivative(s):\n",
    "    return s * (1 - s)"
   ]
  },
  {
   "cell_type": "code",
   "execution_count": 23,
   "metadata": {},
   "outputs": [
    {
     "name": "stdout",
     "output_type": "stream",
     "text": [
      "sigmoid of s: [0.73105858 0.88079708 0.95257413]\n",
      "gradient of s: [0.19661193 0.10499359 0.04517666]\n"
     ]
    }
   ],
   "source": [
    "s=mysigmoid(x)\n",
    "ds=sig_derivative(s)\n",
    "print(\"sigmoid of s:\",s)\n",
    "print(\"gradient of s:\",ds)"
   ]
  },
  {
   "cell_type": "markdown",
   "metadata": {},
   "source": [
    "### Part-III: Write a method image_to_vector()"
   ]
  },
  {
   "cell_type": "code",
   "execution_count": 26,
   "metadata": {},
   "outputs": [],
   "source": [
    "def image_to_vector(image):\n",
    "    v = image.reshape(image.shape[0]*image.shape[1]*image.shape[2], 1)\n",
    "    return v"
   ]
  },
  {
   "cell_type": "code",
   "execution_count": 29,
   "metadata": {},
   "outputs": [
    {
     "name": "stdout",
     "output_type": "stream",
     "text": [
      "image2vector(image) = [[0.67826139]\n",
      " [0.29380381]\n",
      " [0.90714982]\n",
      " [0.52835647]\n",
      " [0.4215251 ]\n",
      " [0.45017551]\n",
      " [0.92814219]\n",
      " [0.96677647]\n",
      " [0.85304703]\n",
      " [0.52351845]\n",
      " [0.19981397]\n",
      " [0.27417313]\n",
      " [0.60659855]\n",
      " [0.00533165]\n",
      " [0.10820313]\n",
      " [0.49978937]\n",
      " [0.34144279]\n",
      " [0.94630077]]\n"
     ]
    }
   ],
   "source": [
    "image = np.array([[[ 0.67826139,  0.29380381],\n",
    "        [ 0.90714982,  0.52835647],\n",
    "        [ 0.4215251 ,  0.45017551]],\n",
    "\n",
    "       [[ 0.92814219,  0.96677647],\n",
    "        [ 0.85304703,  0.52351845],\n",
    "        [ 0.19981397,  0.27417313]],\n",
    "\n",
    "       [[ 0.60659855,  0.00533165],\n",
    "        [ 0.10820313,  0.49978937],\n",
    "        [ 0.34144279,  0.94630077]]])\n",
    "\n",
    "print (\"image2vector(image) = \" + str(image_to_vector(image)))"
   ]
  },
  {
   "cell_type": "markdown",
   "metadata": {},
   "source": [
    "### Part-IV: Write a method normalizeRows()"
   ]
  },
  {
   "cell_type": "code",
   "execution_count": 35,
   "metadata": {},
   "outputs": [],
   "source": [
    "def normalizeRows(x):\n",
    "    x_norm = np.linalg.norm(x, ord = 2, axis = 1, keepdims = True)\n",
    "    x = x / x_norm\n",
    "    return x"
   ]
  },
  {
   "cell_type": "code",
   "execution_count": 36,
   "metadata": {},
   "outputs": [
    {
     "name": "stdout",
     "output_type": "stream",
     "text": [
      "normalizeRows(x) = [[0.         0.6        0.8       ]\n",
      " [0.13736056 0.82416338 0.54944226]]\n"
     ]
    }
   ],
   "source": [
    "x = np.array([\n",
    "    [0, 3, 4],\n",
    "    [1, 6, 4]])\n",
    "print(\"normalizeRows(x) = \" + str(normalizeRows(x)))"
   ]
  },
  {
   "cell_type": "markdown",
   "metadata": {},
   "source": [
    "### Part-V: Multiplication and Vectorization Operations"
   ]
  },
  {
   "cell_type": "markdown",
   "metadata": {},
   "source": [
    "1). For the following two vectors, find the multiplication value and the dot\n",
    "product. First compute multiplication and dot product manually. Then, you\n",
    "can use np.multiply() and np.dot() functions."
   ]
  },
  {
   "cell_type": "markdown",
   "metadata": {},
   "source": [
    "a).\n",
    "x1 = [9, 2, 5]\n",
    "x2 = [7, 2, 2]"
   ]
  },
  {
   "cell_type": "code",
   "execution_count": 37,
   "metadata": {},
   "outputs": [
    {
     "name": "stdout",
     "output_type": "stream",
     "text": [
      "Multiplication value: [63  4 10]\n",
      "Dot product: 77\n"
     ]
    }
   ],
   "source": [
    "x1 = np.array([9, 2, 5])\n",
    "x2 = np.array([7, 2, 2])\n",
    "\n",
    "mult = np.multiply(x1, x2)\n",
    "dot = np.dot(x1, x2)\n",
    "\n",
    "print('Multiplication value:', mult)\n",
    "print('Dot product:', dot)"
   ]
  },
  {
   "cell_type": "markdown",
   "metadata": {},
   "source": [
    "b).\n",
    "x1 = [9, 2, 5, 0, 0, 7, 5, 0, 0, 0, 9, 2, 5, 0, 0, 4, 5, 7]\n",
    "x2 = [7, 2, 2, 9, 0, 9, 2, 5, 0, 0, 9, 2, 5, 0, 0, 8, 5, 3]"
   ]
  },
  {
   "cell_type": "code",
   "execution_count": 38,
   "metadata": {},
   "outputs": [
    {
     "name": "stdout",
     "output_type": "stream",
     "text": [
      "Multiplication value: [63  4 10  0  0 63 10  0  0  0 81  4 25  0  0 32 25 21]\n",
      "Dot product: 338\n"
     ]
    }
   ],
   "source": [
    "x1 = np.array([9, 2, 5, 0, 0, 7, 5, 0, 0, 0, 9, 2, 5, 0, 0, 4, 5, 7])\n",
    "x2 = np.array([7, 2, 2, 9, 0, 9, 2, 5, 0, 0, 9, 2, 5, 0, 0, 8, 5, 3])\n",
    "\n",
    "mult = np.multiply(x1, x2)\n",
    "dot = np.dot(x1, x2)\n",
    "\n",
    "print('Multiplication value:', mult)\n",
    "print('Dot product:', dot)"
   ]
  },
  {
   "cell_type": "markdown",
   "metadata": {},
   "source": [
    "2). Create two random vectors of N elements, perform multiplication and\n",
    "vectorization operations and print the respective running times. Is running\n",
    "time of vectorization is less?."
   ]
  },
  {
   "cell_type": "code",
   "execution_count": 39,
   "metadata": {},
   "outputs": [
    {
     "name": "stdout",
     "output_type": "stream",
     "text": [
      "For loop time: 0.435202 seconds\n",
      "Vectorization time: 0.004013 seconds\n"
     ]
    }
   ],
   "source": [
    "import timeit\n",
    "N = 1000000\n",
    "\n",
    "a = np.random.rand(N)\n",
    "b = np.random.rand(N)\n",
    "\n",
    "start_time = timeit.default_timer()\n",
    "\n",
    "result = np.zeros(N)\n",
    "for i in range(N):\n",
    "    result[i] = a[i] * b[i]\n",
    "\n",
    "for_loop_time = timeit.default_timer() - start_time\n",
    "\n",
    "start_time = timeit.default_timer()\n",
    "\n",
    "result = np.multiply(a, b)\n",
    "\n",
    "vectorization_time = timeit.default_timer() - start_time\n",
    "\n",
    "print('For loop time: {:.6f} seconds'.format(for_loop_time))\n",
    "print('Vectorization time: {:.6f} seconds'.format(vectorization_time))\n"
   ]
  },
  {
   "cell_type": "markdown",
   "metadata": {},
   "source": [
    "### Part-VI: Implement L1 and L2 loss functions"
   ]
  },
  {
   "cell_type": "markdown",
   "metadata": {},
   "source": [
    "1). Write a method loss_l1(y, ypred) that takes the actual value y and\n",
    "predicted value ypred and returns l1 loss value. Test your function with\n",
    "the following vectors.\n",
    "y = np.array([1, 0, 0, 1, 1])\n",
    "ypred = np.array([.9, 0.2, 0.1, .4, .9])\n",
    "// Your output will be 1.1"
   ]
  },
  {
   "cell_type": "code",
   "execution_count": 42,
   "metadata": {},
   "outputs": [
    {
     "name": "stdout",
     "output_type": "stream",
     "text": [
      "L1 loss: 1.1\n"
     ]
    }
   ],
   "source": [
    "import numpy as np\n",
    "\n",
    "def loss_l1(y, ypred):\n",
    "    return np.sum(np.abs(y - ypred))\n",
    "\n",
    "# Test the function with given vectors\n",
    "y = np.array([1, 0, 0, 1, 1])\n",
    "ypred = np.array([.9, 0.2, 0.1, .4, .9])\n",
    "print(\"L1 loss:\", loss_l1(y, ypred))"
   ]
  },
  {
   "cell_type": "markdown",
   "metadata": {},
   "source": [
    "2). Write a method loss_l2(y, ypred) that takes the actual value y and\n",
    "predicted value ypred and returns l2 loss value. Test your function with\n",
    "the following vectors.\n",
    "y = np.array([1, 0, 0, 1, 1])\n",
    "ypred = np.array([.9, 0.2, 0.1, .4, .9])"
   ]
  },
  {
   "cell_type": "code",
   "execution_count": 43,
   "metadata": {},
   "outputs": [
    {
     "name": "stdout",
     "output_type": "stream",
     "text": [
      "L2 loss: 0.43\n"
     ]
    }
   ],
   "source": [
    "import numpy as np\n",
    "\n",
    "def loss_l2(y, ypred):\n",
    "    return np.sum(np.square(y - ypred))\n",
    "\n",
    "# Test the function with given vectors\n",
    "y = np.array([1, 0, 0, 1, 1])\n",
    "ypred = np.array([.9, 0.2, 0.1, .4, .9])\n",
    "print(\"L2 loss:\", loss_l2(y, ypred))"
   ]
  },
  {
   "cell_type": "code",
   "execution_count": null,
   "metadata": {},
   "outputs": [],
   "source": []
  }
 ],
 "metadata": {
  "kernelspec": {
   "display_name": "Python 3",
   "language": "python",
   "name": "python3"
  },
  "language_info": {
   "codemirror_mode": {
    "name": "ipython",
    "version": 3
   },
   "file_extension": ".py",
   "mimetype": "text/x-python",
   "name": "python",
   "nbconvert_exporter": "python",
   "pygments_lexer": "ipython3",
   "version": "3.6.4"
  }
 },
 "nbformat": 4,
 "nbformat_minor": 2
}
