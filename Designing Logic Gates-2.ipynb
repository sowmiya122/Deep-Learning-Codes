{
 "cells": [
  {
   "cell_type": "markdown",
   "metadata": {},
   "source": [
    "### Lab2. Design of Logic Gates using Perceptron and Keras"
   ]
  },
  {
   "cell_type": "markdown",
   "metadata": {},
   "source": [
    "#### 225229138 - Sowmiya B"
   ]
  },
  {
   "cell_type": "markdown",
   "metadata": {},
   "source": [
    "### Part-I: Design OR gate using the concept of Perceptron"
   ]
  },
  {
   "cell_type": "markdown",
   "metadata": {},
   "source": [
    "Step1: Define helper functions"
   ]
  },
  {
   "cell_type": "code",
   "execution_count": 1,
   "metadata": {},
   "outputs": [],
   "source": [
    "import numpy as np\n",
    "def sigmoid(x):\n",
    "    return 1 / (1 + np.exp(-x))"
   ]
  },
  {
   "cell_type": "code",
   "execution_count": 2,
   "metadata": {},
   "outputs": [],
   "source": [
    "def logic_gate(w1, w2, b):\n",
    "# Helper to create logic gate functions\n",
    "    return lambda x1, x2: sigmoid(w1 * x1 + w2 * x2 + b)"
   ]
  },
  {
   "cell_type": "code",
   "execution_count": 3,
   "metadata": {},
   "outputs": [],
   "source": [
    "def test(gate):\n",
    "# Helper function to test out our weight functions.\n",
    "    for a, b in (0, 0), (0, 1), (1, 0), (1, 1):\n",
    "        print(\"{}, {}: {}\".format(a, b, np.round(gate(a,b))))"
   ]
  },
  {
   "cell_type": "markdown",
   "metadata": {},
   "source": [
    "Step2: Identify values for weights, w1 and w2 and bias, b, for OR gate.\n",
    "Then, call logic_gate() function first with the values of weights and bias and\n",
    "test the outputs. For example, do the following steps and verify OR gate\n",
    "operations."
   ]
  },
  {
   "cell_type": "code",
   "execution_count": 4,
   "metadata": {},
   "outputs": [],
   "source": [
    "or_gate = logic_gate(20, 20, -10)"
   ]
  },
  {
   "cell_type": "code",
   "execution_count": 5,
   "metadata": {},
   "outputs": [
    {
     "name": "stdout",
     "output_type": "stream",
     "text": [
      "0, 0: 0.0\n",
      "0, 1: 1.0\n",
      "1, 0: 1.0\n",
      "1, 1: 1.0\n"
     ]
    }
   ],
   "source": [
    "test(or_gate)"
   ]
  },
  {
   "cell_type": "markdown",
   "metadata": {},
   "source": [
    "### Part-II: Implement the operations of AND, NOR and NAND gates"
   ]
  },
  {
   "cell_type": "markdown",
   "metadata": {},
   "source": [
    "Step1: Identify values for weights, w1 and w2 and bias, b, for AND gate.\n",
    "Then, call logic_gate() function first with the values of weights and bias and\n",
    "test the outputs. Draw manually using pen the diagram of OR gate."
   ]
  },
  {
   "cell_type": "code",
   "execution_count": 6,
   "metadata": {},
   "outputs": [],
   "source": [
    "and_gate=logic_gate(10,10,-10)"
   ]
  },
  {
   "cell_type": "code",
   "execution_count": 7,
   "metadata": {},
   "outputs": [
    {
     "name": "stdout",
     "output_type": "stream",
     "text": [
      "0, 0: 0.0\n",
      "0, 1: 0.0\n",
      "1, 0: 0.0\n",
      "1, 1: 1.0\n"
     ]
    }
   ],
   "source": [
    "test(and_gate)"
   ]
  },
  {
   "cell_type": "markdown",
   "metadata": {},
   "source": [
    "Step2: Identify values for weights, w1 and w2 and bias, b, for NOR gate.\n",
    "Then, call logic_gate() function first with the values of weights and bias and\n",
    "test the outputs. Draw manually using pen the diagram of NOR gate."
   ]
  },
  {
   "cell_type": "code",
   "execution_count": 8,
   "metadata": {},
   "outputs": [
    {
     "name": "stdout",
     "output_type": "stream",
     "text": [
      "0, 0: 1.0\n",
      "0, 1: 0.0\n",
      "1, 0: 0.0\n",
      "1, 1: 0.0\n"
     ]
    }
   ],
   "source": [
    "nor_gate = logic_gate(-20,-20,10)\n",
    "test(nor_gate)"
   ]
  },
  {
   "cell_type": "markdown",
   "metadata": {},
   "source": [
    "Step3:Identify values for weights, w1 and w2 and bias, b, for NAND gate. Then, call logic_gate() function first with the\n",
    "values of weights and bias and test the outputs. Draw manually using pen the diagram of NAND gate."
   ]
  },
  {
   "cell_type": "code",
   "execution_count": 9,
   "metadata": {},
   "outputs": [
    {
     "name": "stdout",
     "output_type": "stream",
     "text": [
      "0, 0: 1.0\n",
      "0, 1: 1.0\n",
      "1, 0: 1.0\n",
      "1, 1: 0.0\n"
     ]
    }
   ],
   "source": [
    "nand_gate = logic_gate(-1,-1,2)\n",
    "test(nand_gate)"
   ]
  },
  {
   "cell_type": "markdown",
   "metadata": {},
   "source": [
    "### Part-III: Limitations of single neuron for XOR operation"
   ]
  },
  {
   "cell_type": "markdown",
   "metadata": {},
   "source": [
    "Can you identify a set of weights such that a single neuron can output the values for XOR gate?. Single\n",
    "neurons can't correlate inputs, so it's just confused. So individual neurons are out. Can we still use neurons to\n",
    "somehow form an XOR gate?."
   ]
  },
  {
   "cell_type": "code",
   "execution_count": 10,
   "metadata": {},
   "outputs": [
    {
     "name": "stdout",
     "output_type": "stream",
     "text": [
      "0, 0: 0.0\n",
      "0, 1: 1.0\n",
      "1, 0: 1.0\n",
      "1, 1: 1.0\n"
     ]
    }
   ],
   "source": [
    "def xor_gate(a,b):\n",
    "    c=or_gate(a,b)\n",
    "    d=nand_gate(a,b)\n",
    "    return and_gate(c,d)\n",
    "test(xor_gate)"
   ]
  },
  {
   "cell_type": "code",
   "execution_count": 11,
   "metadata": {},
   "outputs": [
    {
     "name": "stdout",
     "output_type": "stream",
     "text": [
      "XOR Gate truth table \n",
      "\n",
      "X, Y X+Y\n",
      "0.0, 1.0: 0.0\n",
      "1.0, 1.0: 1.0\n",
      "1.0, 1.0: 1.0\n",
      "1.0, 0.0: 0.0\n"
     ]
    }
   ],
   "source": [
    "def logic_gate(w1, W2, b):\n",
    "    return lambda x1, x2: sigmoid(w1 * x1 + W2 * x2 + b)\n",
    "def final(gate):\n",
    "    for a, b in zip(result1, result2):\n",
    "        print(\"{}, {}: {}\".format(a, b, np.round(gate(a, b))))\n",
    "result1 = []\n",
    "result2 = []\n",
    "or_gate = logic_gate(20,20,-10)\n",
    "\n",
    "for a, b in (0, 0), (0, 1), (1, 0), (1, 1):\n",
    "    result1.append(np.round(or_gate(a,b)))\n",
    "    nand_gate = logic_gate(-23,-25,35)\n",
    "for a, b in (0, 0), (0, 1), (1, 0), (1, 1):\n",
    "    result2.append(np.round(nand_gate(a,b)))\n",
    "    \n",
    "xor_gate = logic_gate(20,20,-30)\n",
    "\n",
    "print(\"XOR Gate truth table \\n\")\n",
    "print(\"X, Y X+Y\")\n",
    "final(xor_gate)"
   ]
  },
  {
   "cell_type": "markdown",
   "metadata": {},
   "source": [
    "### Part-IV: Logic Gates using Keras library"
   ]
  },
  {
   "cell_type": "markdown",
   "metadata": {},
   "source": [
    "In this part of the lab, you will create and implement the operations of logic gates such as AND, OR, NOT,\n",
    "NAND, NOR and XOR in Keras."
   ]
  },
  {
   "cell_type": "markdown",
   "metadata": {},
   "source": [
    "Steps: For each logic gate operations\n",
    "1. Create a tensor using Numpy array for input values and output\n",
    "values\n",
    "2. Create a neural network with one hidden layer with 16 nodes, input\n",
    "dimensions to be 2 and “relu” activation function. The output layer\n",
    "should have one node with sigmoid activation function.\n",
    "3. Compile the model with “adam” optimizer, 'mean_squared_error' loss\n",
    "function and 'binary_accuracy' as performance or metric.\n",
    "4. Run the model with 100 epoch and predict the output values."
   ]
  },
  {
   "cell_type": "code",
   "execution_count": 12,
   "metadata": {},
   "outputs": [],
   "source": [
    "import tensorflow as tf\n",
    "from tensorflow.keras.models import Sequential\n",
    "from tensorflow.keras.layers import Dense"
   ]
  },
  {
   "cell_type": "code",
   "execution_count": 13,
   "metadata": {},
   "outputs": [],
   "source": [
    "# Function to create and run the model\n",
    "def run_logic_gate_model(gate_name, x_train, y_train):\n",
    "    # Create the model\n",
    "    model = Sequential()\n",
    "    model.add(Dense(16, input_dim=2, activation='relu'))\n",
    "    model.add(Dense(1, activation='sigmoid'))\n",
    "\n",
    "    # Compile the model\n",
    "    model.compile(optimizer='adam', loss='mean_squared_error', metrics=['binary_accuracy'])\n",
    "\n",
    "    # Train the model\n",
    "    model.fit(x_train, y_train, epochs=100, verbose=0)\n",
    "\n",
    "    # Predict the output values\n",
    "    predictions = model.predict(x_train)\n",
    "    predictions = np.round(predictions)\n",
    "\n",
    "    # Print the predictions\n",
    "    print(f\"{gate_name} Gate Predictions:\")\n",
    "    print(predictions.flatten().astype(int))\n",
    "    print()"
   ]
  },
  {
   "cell_type": "code",
   "execution_count": 14,
   "metadata": {},
   "outputs": [
    {
     "name": "stdout",
     "output_type": "stream",
     "text": [
      "1/1 [==============================] - 0s 78ms/step\n",
      "AND Gate Predictions:\n",
      "[0 0 0 1]\n",
      "\n",
      "1/1 [==============================] - 0s 47ms/step\n",
      "OR Gate Predictions:\n",
      "[1 1 1 1]\n",
      "\n",
      "1/1 [==============================] - 0s 59ms/step\n",
      "NOT Gate Predictions:\n",
      "[1 0 1 0]\n",
      "\n",
      "1/1 [==============================] - 0s 47ms/step\n",
      "NAND Gate Predictions:\n",
      "[1 1 1 0]\n",
      "\n",
      "WARNING:tensorflow:5 out of the last 5 calls to <function Model.make_predict_function.<locals>.predict_function at 0x000001C43B6A9480> triggered tf.function retracing. Tracing is expensive and the excessive number of tracings could be due to (1) creating @tf.function repeatedly in a loop, (2) passing tensors with different shapes, (3) passing Python objects instead of tensors. For (1), please define your @tf.function outside of the loop. For (2), @tf.function has reduce_retracing=True option that can avoid unnecessary retracing. For (3), please refer to https://www.tensorflow.org/guide/function#controlling_retracing and https://www.tensorflow.org/api_docs/python/tf/function for  more details.\n",
      "1/1 [==============================] - 0s 47ms/step\n",
      "NOR Gate Predictions:\n",
      "[0 0 0 0]\n",
      "\n",
      "WARNING:tensorflow:6 out of the last 6 calls to <function Model.make_predict_function.<locals>.predict_function at 0x000001C43B6AAD40> triggered tf.function retracing. Tracing is expensive and the excessive number of tracings could be due to (1) creating @tf.function repeatedly in a loop, (2) passing tensors with different shapes, (3) passing Python objects instead of tensors. For (1), please define your @tf.function outside of the loop. For (2), @tf.function has reduce_retracing=True option that can avoid unnecessary retracing. For (3), please refer to https://www.tensorflow.org/guide/function#controlling_retracing and https://www.tensorflow.org/api_docs/python/tf/function for  more details.\n",
      "1/1 [==============================] - 0s 70ms/step\n",
      "XOR Gate Predictions:\n",
      "[1 1 1 0]\n",
      "\n"
     ]
    }
   ],
   "source": [
    "# Input and output values for the logic gates\n",
    "input_values = np.array([[0, 0], [0, 1], [1, 0], [1, 1]])\n",
    "\n",
    "# AND gate\n",
    "and_output = np.array([0, 0, 0, 1])\n",
    "run_logic_gate_model(\"AND\", input_values, and_output)\n",
    "\n",
    "# OR gate\n",
    "or_output = np.array([0, 1, 1, 1])\n",
    "run_logic_gate_model(\"OR\", input_values, or_output)\n",
    "\n",
    "# NOT gate\n",
    "not_output = np.array([1, 0, 1, 0])\n",
    "run_logic_gate_model(\"NOT\", input_values, not_output)\n",
    "\n",
    "# NAND gate\n",
    "nand_output = np.array([1, 1, 1, 0])\n",
    "run_logic_gate_model(\"NAND\", input_values, nand_output)\n",
    "\n",
    "# NOR gate\n",
    "nor_output = np.array([1, 0, 0, 0])\n",
    "run_logic_gate_model(\"NOR\", input_values, nor_output)\n",
    "\n",
    "# XOR gate\n",
    "xor_output = np.array([0, 1, 1, 0])\n",
    "run_logic_gate_model(\"XOR\", input_values, xor_output)"
   ]
  },
  {
   "cell_type": "code",
   "execution_count": null,
   "metadata": {},
   "outputs": [],
   "source": []
  }
 ],
 "metadata": {
  "kernelspec": {
   "display_name": "Python 3 (ipykernel)",
   "language": "python",
   "name": "python3"
  },
  "language_info": {
   "codemirror_mode": {
    "name": "ipython",
    "version": 3
   },
   "file_extension": ".py",
   "mimetype": "text/x-python",
   "name": "python",
   "nbconvert_exporter": "python",
   "pygments_lexer": "ipython3",
   "version": "3.10.9"
  }
 },
 "nbformat": 4,
 "nbformat_minor": 2
}
